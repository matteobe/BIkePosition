{
 "cells": [
  {
   "cell_type": "markdown",
   "metadata": {},
   "source": [
    "# Bike Position - Video Analysis Tool\n",
    "\n",
    "***\n",
    "In this video analysis tool, the user can explore a recorded video of a person sitting on a bike pedalling and move from frame to frame and decide if he wants to store the image or skip ahead for further images. "
   ]
  },
  {
   "cell_type": "markdown",
   "metadata": {},
   "source": [
    "## Import Packages"
   ]
  },
  {
   "cell_type": "code",
   "execution_count": 1,
   "metadata": {},
   "outputs": [],
   "source": [
    "#importing some useful packages\n",
    "import matplotlib.pyplot as plt\n",
    "import matplotlib.image as mpimg\n",
    "import numpy as np\n",
    "\n",
    "# Import everything needed to edit/save/watch video clips\n",
    "from moviepy.editor import VideoFileClip\n",
    "from IPython.display import HTML\n",
    "\n",
    "# String manipulation and char inputs\n",
    "import getch\n",
    "\n",
    "# Display matplotlib images directly in the Jupyter notebook\n",
    "%matplotlib inline"
   ]
  },
  {
   "cell_type": "markdown",
   "metadata": {},
   "source": [
    "## Define input video and frame output"
   ]
  },
  {
   "cell_type": "code",
   "execution_count": 5,
   "metadata": {},
   "outputs": [],
   "source": [
    "# Define input video\n",
    "input_video = 'Videos/DSC_3863.mov'\n",
    "\n",
    "# Define target name for frame output and extension type\n",
    "frame_output = 'Frames/DSC_3863_'\n",
    "frame_extension = '.png'"
   ]
  },
  {
   "cell_type": "markdown",
   "metadata": {},
   "source": [
    "## Helper Functions\n",
    "\n",
    "Below we define different functions used to implement the video reading and storing of frames."
   ]
  },
  {
   "cell_type": "code",
   "execution_count": 10,
   "metadata": {},
   "outputs": [],
   "source": [
    "def user_controls():\n",
    "    # Initialize the user input as incorrect\n",
    "    input_incorrect = True\n",
    "    \n",
    "    # Repeat the procedure until the user inputs a valid input\n",
    "    while input_incorrect:\n",
    "        # Get user input and test it for correctness\n",
    "        char_input = getch.getch()\n",
    "        char_input = char_input.lower()\n",
    "        input_incorrect = check_user_input(char_input)\n",
    "        \n",
    "    # Return the correct action to be taken based on the user input\n",
    "    if char_input == \"a\":\n",
    "        video_action = -1\n",
    "    elif char_input == \"d\":\n",
    "        video_action = 1\n",
    "    elif char_input == \"s\":\n",
    "        video_action = 2\n",
    "    else:\n",
    "        video_action = 0\n",
    "    \n",
    "    # Return number corresponding to action to be taken\n",
    "    # 0: close program\n",
    "    # 1: move to next frame\n",
    "    # -1: move to previous frame\n",
    "    # 2: save frame and move to next frame\n",
    "    return video_action\n",
    "    \n",
    "    \n",
    "def check_user_input(user_input):\n",
    "    # Initialize user input as incorrect\n",
    "    input_incorrect = True\n",
    "    \n",
    "    # Define valid inputs\n",
    "    valid_inputs = [\"a\",\"s\",\"d\",\"q\"]\n",
    "    \n",
    "    # Check the different valid cases\n",
    "    user_input = user_input.lower()\n",
    "    if user_input in valid_inputs:\n",
    "        input_incorrect = False\n",
    "    \n",
    "    # Return value\n",
    "    return input_incorrect\n",
    "        \n",
    "    \n",
    "def video_reader(input_video,frame_output,frame_extension):\n",
    "    \n",
    "    # Initialize frame counter\n",
    "    frame_counter = 1\n",
    "    counter_digits = 3\n",
    "    \n",
    "    # Read in the video\n",
    "    video = VideoFileClip(input_video)\n",
    "    video_fps = video.fps\n",
    "    video_frames = video.reader.nframes\n",
    "    \n",
    "    # Iterate through the frames and show each frame\n",
    "    continue_video = True\n",
    "    current_frame = 0\n",
    "    \n",
    "    while continue_video and current_frame >= 0 and current_frame < video_frames:\n",
    "        \n",
    "        print(\"Entered loop\")\n",
    "        \n",
    "        # Show current frame and wait for user input\n",
    "        frame_img = video.get_frame(current_frame * video_fps)\n",
    "        plt.imshow(frame_img)\n",
    "        \n",
    "        # Wait for user input\n",
    "        \n",
    "        # Testing with continue_video = False\n",
    "        continue_video = False"
   ]
  },
  {
   "cell_type": "markdown",
   "metadata": {},
   "source": [
    "## Read video and let user store frames\n",
    "\n",
    "### Procedure for exploring videos and storing frames:\n",
    "\n",
    "`d` to move to next frame\n",
    "\n",
    "`a` to move to previous frame\n",
    "\n",
    "`s` to save frame and move to next frame\n",
    "\n",
    "`q` to stop reading video and exiting process\n"
   ]
  },
  {
   "cell_type": "code",
   "execution_count": 11,
   "metadata": {},
   "outputs": [
    {
     "ename": "OverflowError",
     "evalue": "character argument not in range(0x110000)",
     "output_type": "error",
     "traceback": [
      "\u001b[0;31m---------------------------------------------------------------------------\u001b[0m",
      "\u001b[0;31mOverflowError\u001b[0m                             Traceback (most recent call last)",
      "\u001b[0;32m<ipython-input-11-1030884b0d8b>\u001b[0m in \u001b[0;36m<module>\u001b[0;34m\u001b[0m\n\u001b[1;32m      1\u001b[0m \u001b[0;31m# Test user inputs\u001b[0m\u001b[0;34m\u001b[0m\u001b[0;34m\u001b[0m\u001b[0;34m\u001b[0m\u001b[0m\n\u001b[0;32m----> 2\u001b[0;31m \u001b[0mprint\u001b[0m\u001b[0;34m(\u001b[0m\u001b[0muser_controls\u001b[0m\u001b[0;34m(\u001b[0m\u001b[0;34m)\u001b[0m\u001b[0;34m)\u001b[0m\u001b[0;34m\u001b[0m\u001b[0;34m\u001b[0m\u001b[0m\n\u001b[0m\u001b[1;32m      3\u001b[0m \u001b[0;34m\u001b[0m\u001b[0m\n\u001b[1;32m      4\u001b[0m \u001b[0;31m# Test video_reader function\u001b[0m\u001b[0;34m\u001b[0m\u001b[0;34m\u001b[0m\u001b[0;34m\u001b[0m\u001b[0m\n\u001b[1;32m      5\u001b[0m \u001b[0;34m\u001b[0m\u001b[0m\n",
      "\u001b[0;32m<ipython-input-10-d95adb6714c8>\u001b[0m in \u001b[0;36muser_controls\u001b[0;34m()\u001b[0m\n\u001b[1;32m      6\u001b[0m     \u001b[0;32mwhile\u001b[0m \u001b[0minput_incorrect\u001b[0m\u001b[0;34m:\u001b[0m\u001b[0;34m\u001b[0m\u001b[0;34m\u001b[0m\u001b[0m\n\u001b[1;32m      7\u001b[0m         \u001b[0;31m# Get user input and test it for correctness\u001b[0m\u001b[0;34m\u001b[0m\u001b[0;34m\u001b[0m\u001b[0;34m\u001b[0m\u001b[0m\n\u001b[0;32m----> 8\u001b[0;31m         \u001b[0mchar_input\u001b[0m \u001b[0;34m=\u001b[0m \u001b[0mgetch\u001b[0m\u001b[0;34m.\u001b[0m\u001b[0mgetch\u001b[0m\u001b[0;34m(\u001b[0m\u001b[0;34m)\u001b[0m\u001b[0;34m\u001b[0m\u001b[0;34m\u001b[0m\u001b[0m\n\u001b[0m\u001b[1;32m      9\u001b[0m         \u001b[0mchar_input\u001b[0m \u001b[0;34m=\u001b[0m \u001b[0mchar_input\u001b[0m\u001b[0;34m.\u001b[0m\u001b[0mlower\u001b[0m\u001b[0;34m(\u001b[0m\u001b[0;34m)\u001b[0m\u001b[0;34m\u001b[0m\u001b[0;34m\u001b[0m\u001b[0m\n\u001b[1;32m     10\u001b[0m         \u001b[0minput_incorrect\u001b[0m \u001b[0;34m=\u001b[0m \u001b[0mcheck_user_input\u001b[0m\u001b[0;34m(\u001b[0m\u001b[0mchar_input\u001b[0m\u001b[0;34m)\u001b[0m\u001b[0;34m\u001b[0m\u001b[0;34m\u001b[0m\u001b[0m\n",
      "\u001b[0;31mOverflowError\u001b[0m: character argument not in range(0x110000)"
     ]
    }
   ],
   "source": [
    "# Test user inputs\n",
    "print(user_controls())\n",
    "\n",
    "# Test video_reader function\n",
    "\n",
    "# video_reader(input_video,frame_output,frame_extension)\n"
   ]
  }
 ],
 "metadata": {
  "anaconda-cloud": {},
  "kernelspec": {
   "display_name": "Python 3",
   "language": "python",
   "name": "python3"
  },
  "language_info": {
   "codemirror_mode": {
    "name": "ipython",
    "version": 3
   },
   "file_extension": ".py",
   "mimetype": "text/x-python",
   "name": "python",
   "nbconvert_exporter": "python",
   "pygments_lexer": "ipython3",
   "version": "3.8.1"
  }
 },
 "nbformat": 4,
 "nbformat_minor": 1
}
