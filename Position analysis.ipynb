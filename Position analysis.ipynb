{
 "cells": [
  {
   "cell_type": "markdown",
   "metadata": {},
   "source": [
    "# Bike Position - Video Analysis Tool\n",
    "\n",
    "***\n",
    "In this video analysis tool, the user can explore a recorded video of a person sitting on a bike pedalling and move from frame to frame and decide if he wants to store the image or skip ahead for further images. "
   ]
  },
  {
   "cell_type": "markdown",
   "metadata": {},
   "source": [
    "## Import Packages"
   ]
  },
  {
   "cell_type": "code",
   "execution_count": 53,
   "metadata": {},
   "outputs": [],
   "source": [
    "#importing some useful packages\n",
    "import matplotlib.pyplot as plt\n",
    "import matplotlib.image as mpimg\n",
    "import numpy as np\n",
    "import io\n",
    "\n",
    "# Import everything needed to edit/save/watch video clips\n",
    "from moviepy.editor import VideoFileClip\n",
    "from IPython.display import HTML\n",
    "from PIL import Image\n",
    "\n",
    "# Enable ipython widgets\n",
    "import ipywidgets as widgets\n",
    "\n",
    "# Display matplotlib images directly in the Jupyter notebook\n",
    "%matplotlib inline"
   ]
  },
  {
   "cell_type": "markdown",
   "metadata": {},
   "source": [
    "## Define input video and frame output"
   ]
  },
  {
   "cell_type": "code",
   "execution_count": 59,
   "metadata": {},
   "outputs": [],
   "source": [
    "# Define input video\n",
    "input_video = 'Videos/DSC_3863.mov'\n",
    "\n",
    "# Define target name for frame output and extension type\n",
    "frame_output = 'Frames/DSC_3863_'\n",
    "frame_format = 'PNG'\n",
    "frame_size = (1280,720)\n",
    "\n",
    "# Start saved frames counter \n",
    "saved_frames = 1"
   ]
  },
  {
   "cell_type": "markdown",
   "metadata": {},
   "source": [
    "## Helper Functions\n",
    "\n",
    "Below we define different functions used to implement the video reading and storing of frames."
   ]
  },
  {
   "cell_type": "code",
   "execution_count": 62,
   "metadata": {},
   "outputs": [],
   "source": [
    "# Function to extract frame from video, so that it can be displayed in a widget\n",
    "def get_frame():\n",
    "    # Define global variables that are accessible\n",
    "    global current_frame, video, video_fps, frame_size, frame_format\n",
    "    \n",
    "    # Extract the frame\n",
    "    frame_img = video.get_frame(current_frame / video_fps)\n",
    "    img = Image.fromarray(frame_img,'RGB')\n",
    "    img_resize = img.resize(frame_size)\n",
    "    buf = io.BytesIO()\n",
    "    img_resize.save(buf, format=frame_format)\n",
    "    return buf.getvalue()\n",
    "\n",
    "def update_frame():\n",
    "    # Retrieve new frame and replace image in image widget\n",
    "    frame_img = get_frame()\n",
    "    image_widget.value = frame_img\n",
    "    \n",
    "def save_frame():\n",
    "    # Define global variables that are accessible\n",
    "    global current_frame, video, video_fps, frame_output, frame_format, saved_frames\n",
    "    \n",
    "    # Extract the frame and save it\n",
    "    frame_img = video.get_frame(current_frame / video_fps)\n",
    "    img = Image.fromarray(frame_img)\n",
    "    img.save(frame_output+str(saved_frames).zfill(3)+'.'+frame_format)  \n",
    "    \n",
    "    # Increase the saved_frames counter\n",
    "    saved_frames += 1\n",
    "\n",
    "\n",
    "# Read in the first frame of the video and retrieve video properties\n",
    "current_frame = 0\n",
    "video = VideoFileClip(input_video)\n",
    "video_fps = video.fps\n",
    "video_frames = video.reader.nframes\n",
    "frame_img = get_frame()\n",
    "\n",
    "# Define the image widget and the image replacement function\n",
    "image_widget = widgets.Image(value=frame_img)\n",
    "\n",
    "\n",
    "# Define slider for quick move-around in the video\n",
    "slider_widget = widgets.IntSlider(\n",
    "    value=current_frame,\n",
    "    min=0,\n",
    "    max=video_frames,\n",
    "    step=1,\n",
    "    description='Frame slider',\n",
    "    orientation='horizontal',\n",
    "    continuous_update=False,\n",
    "    readout=True,\n",
    "    readout_format='d')\n",
    "\n",
    "def slider_moved(change):\n",
    "    # Define global variables accessible within function\n",
    "    global current_frame\n",
    "    \n",
    "    # Change the value of the current frame variable and replace image\n",
    "    current_frame = change['new']\n",
    "    update_frame()\n",
    "\n",
    "slider_widget.observe(slider_moved, names='value')\n",
    "\n",
    "\n",
    "# Define the next frame button\n",
    "button_nextFrame = widgets.Button(description=\"Next frame\")\n",
    "\n",
    "def button_nextFrame_clicked(b):\n",
    "    # Define global variables accessible within function\n",
    "    global current_frame, video_frames\n",
    "    \n",
    "    # Increase current frame\n",
    "    if current_frame + 1 < video_frames:\n",
    "        current_frame += 1\n",
    "    \n",
    "    # Retrieve new frame and replace image in image widget\n",
    "    update_frame()\n",
    "\n",
    "button_nextFrame.on_click(button_nextFrame_clicked)\n",
    "    \n",
    "\n",
    "# Define the save frame button\n",
    "button_saveFrame = widgets.Button(description=\"Save frame\")\n",
    "\n",
    "def button_saveFrame_clicked(b):\n",
    "    # Define global variables accessible within function\n",
    "    global current_frame, video_frames\n",
    "    \n",
    "    # Save image, augment counter and display new image\n",
    "    save_frame()\n",
    "    if current_frame + 1 < video_frames:\n",
    "        current_frame += 1\n",
    "    update_frame()\n",
    "    \n",
    "button_saveFrame.on_click(button_saveFrame_clicked)\n",
    "\n",
    "\n",
    "# Define the previous frame button\n",
    "button_previousFrame = widgets.Button(description=\"Previous frame\")\n",
    "\n",
    "def button_previousFrame_clicked(b):\n",
    "    # Define global variables accessible within function\n",
    "    global current_frame\n",
    "    \n",
    "    # Decrease current frame\n",
    "    if current_frame - 1 >= 0:\n",
    "        current_frame -= 1\n",
    "    \n",
    "    # Retrieve new frame and replace image in image widget\n",
    "    update_frame()\n",
    "\n",
    "button_previousFrame.on_click(button_previousFrame_clicked)"
   ]
  },
  {
   "cell_type": "markdown",
   "metadata": {},
   "source": [
    "## Read video and let user store frames\n",
    "\n",
    "### Procedure for exploring videos and storing frames:\n",
    "\n",
    "`Frame slider` let's you move along the video more quickly (in steps of 2 seconds)\n",
    "\n",
    "`Next frame` moves to next frame\n",
    "\n",
    "`a` to move to previous frame\n",
    "\n",
    "`s` to save frame and move to next frame\n",
    "\n",
    "`q` to stop reading video and exiting process\n"
   ]
  },
  {
   "cell_type": "code",
   "execution_count": 63,
   "metadata": {},
   "outputs": [
    {
     "data": {
      "application/vnd.jupyter.widget-view+json": {
       "model_id": "2498c2c20d174ab78a63860408deecbc",
       "version_major": 2,
       "version_minor": 0
      },
      "text/plain": [
       "Image(value=b'\\x89PNG\\r\\n\\x1a\\n\\x00\\x00\\x00\\rIHDR\\x00\\x00\\x05\\x00\\x00\\x00\\x02\\xd0\\x08\\x02\\x00\\x00\\x00@\\x1fJ\\x0…"
      ]
     },
     "metadata": {},
     "output_type": "display_data"
    },
    {
     "data": {
      "application/vnd.jupyter.widget-view+json": {
       "model_id": "84f5eb643f8d4b45b8560c63893829db",
       "version_major": 2,
       "version_minor": 0
      },
      "text/plain": [
       "IntSlider(value=0, continuous_update=False, description='Frame slider', max=13197)"
      ]
     },
     "metadata": {},
     "output_type": "display_data"
    },
    {
     "data": {
      "application/vnd.jupyter.widget-view+json": {
       "model_id": "aeee34e792a44c78a916fe14d361466e",
       "version_major": 2,
       "version_minor": 0
      },
      "text/plain": [
       "Button(description='Next frame', style=ButtonStyle())"
      ]
     },
     "metadata": {},
     "output_type": "display_data"
    },
    {
     "data": {
      "application/vnd.jupyter.widget-view+json": {
       "model_id": "b5bc750023ab47f498bab50b343c3e41",
       "version_major": 2,
       "version_minor": 0
      },
      "text/plain": [
       "Button(description='Save frame', style=ButtonStyle())"
      ]
     },
     "metadata": {},
     "output_type": "display_data"
    },
    {
     "data": {
      "application/vnd.jupyter.widget-view+json": {
       "model_id": "72c4bbaf279f4b6380a530a419208f42",
       "version_major": 2,
       "version_minor": 0
      },
      "text/plain": [
       "Button(description='Previous frame', style=ButtonStyle())"
      ]
     },
     "metadata": {},
     "output_type": "display_data"
    }
   ],
   "source": [
    "# Display widgets and work on the video file\n",
    "display(image_widget)\n",
    "display(slider_widget)\n",
    "display(button_nextFrame)\n",
    "display(button_saveFrame)\n",
    "display(button_previousFrame)"
   ]
  },
  {
   "cell_type": "code",
   "execution_count": null,
   "metadata": {},
   "outputs": [],
   "source": []
  }
 ],
 "metadata": {
  "anaconda-cloud": {},
  "kernelspec": {
   "display_name": "Python 3",
   "language": "python",
   "name": "python3"
  },
  "language_info": {
   "codemirror_mode": {
    "name": "ipython",
    "version": 3
   },
   "file_extension": ".py",
   "mimetype": "text/x-python",
   "name": "python",
   "nbconvert_exporter": "python",
   "pygments_lexer": "ipython3",
   "version": "3.8.1"
  }
 },
 "nbformat": 4,
 "nbformat_minor": 1
}
